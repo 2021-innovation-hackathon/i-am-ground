{
 "cells": [
  {
   "cell_type": "markdown",
   "metadata": {},
   "source": [
    "# [개발자]박상현 자기소개서\n"
   ]
  },
  {
   "cell_type": "markdown",
   "metadata": {},
   "source": [
    "### 한 줄로 간단하게 당신을 알려주세요! "
   ]
  },
  {
   "cell_type": "markdown",
   "metadata": {},
   "source": [
    "- 운동을 좋아하는 개발자입니다. "
   ]
  },
  {
   "cell_type": "markdown",
   "metadata": {},
   "source": [
    "### 좀 더 자세하게 자신에 대해서 소개해주세요."
   ]
  },
  {
   "cell_type": "markdown",
   "metadata": {},
   "source": [
    "- 현재 전남대학교 소프트웨어학과 4학년 재학중인 박상현입니다. 졸업하기 전 짧은 기간동안 프로젝트를 진행하고 싶어서 이렇게 지원하게 되었으며 새로운 사람 만나는 것, 도전하는 것을 좋아합니다."
   ]
  },
  {
   "cell_type": "markdown",
   "metadata": {},
   "source": [
    "### 나의 좌우명은?"
   ]
  },
  {
   "cell_type": "markdown",
   "metadata": {},
   "source": [
    "- 역지사지(다른 사람의 입장에서 생각해라)"
   ]
  },
  {
   "cell_type": "markdown",
   "metadata": {},
   "source": [
    "### 나의 MBTI??"
   ]
  },
  {
   "cell_type": "markdown",
   "metadata": {},
   "source": [
    "- ESFP"
   ]
  },
  {
   "cell_type": "markdown",
   "metadata": {},
   "source": [
    "- 웹,앱,인공지능"
   ]
  },
  {
   "cell_type": "markdown",
   "metadata": {},
   "source": [
    "### 진행했던 프로젝트"
   ]
  },
  {
   "cell_type": "markdown",
   "metadata": {},
   "source": [
    "* AI기반 식별화 및 비식별화 도구 개발\n",
    "* 기업별 파산 예측 모델분석\n",
    "* PC-Match 웹페이지 제작 (개발자-클라이언트)연결 서비스 "
   ]
  },
  {
   "cell_type": "markdown",
   "metadata": {},
   "source": [
    "### 진행중 프로젝트"
   ]
  },
  {
   "cell_type": "markdown",
   "metadata": {},
   "source": [
    "* 비트코인 시세예측 서비스 분석\n",
    "* 이노베이션 해커톤 개발자로 참여"
   ]
  },
  {
   "cell_type": "code",
   "execution_count": null,
   "metadata": {},
   "outputs": [],
   "source": []
  }
 ],
 "metadata": {
  "kernelspec": {
   "display_name": "Python 3",
   "language": "python",
   "name": "python3"
  },
  "language_info": {
   "codemirror_mode": {
    "name": "ipython",
    "version": 3
   },
   "file_extension": ".py",
   "mimetype": "text/x-python",
   "name": "python",
   "nbconvert_exporter": "python",
   "pygments_lexer": "ipython3",
   "version": "3.7.4"
  }
 },
 "nbformat": 4,
 "nbformat_minor": 2
}
